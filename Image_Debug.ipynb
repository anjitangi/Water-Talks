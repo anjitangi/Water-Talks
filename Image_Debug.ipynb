{
 "cells": [
  {
   "cell_type": "code",
   "execution_count": 4,
   "metadata": {},
   "outputs": [],
   "source": [
    "import cv2\n",
    "import numpy as np"
   ]
  },
  {
   "cell_type": "code",
   "execution_count": 5,
   "metadata": {},
   "outputs": [],
   "source": [
    "def adjustImage(frame, mode, contrastBool, threshBool,\n",
    "                upperThresh, lowerThresh, contrast, brightness):\n",
    "    if mode == 'HSV':\n",
    "        hsv = cv2.cvtColor(frame, cv2.COLOR_BGR2HSV)\n",
    "        if contrastBool:\n",
    "            hsv[:,:,2] = cv2.convertScaleAbs(hsv[:,:,2], alpha=contrast, beta=brightness)\n",
    "        if threshBool:\n",
    "            _, hsv[:,:,2] = cv2.threshold(hsv[:,:,2], lowerThresh, upperThresh, cv2.THRESH_BINARY)\n",
    "        processed_img = cv2.cvtColor(hsv, cv2.COLOR_HSV2BGR)\n",
    "        processed_img = cv2.cvtColor(processed_img, cv2.COLOR_BGR2GRAY)\n",
    "    elif mode == 'Gray':\n",
    "        gray = cv2.cvtColor(frame, cv2.COLOR_BGR2GRAY)\n",
    "        if contrastBool:\n",
    "            gray = cv2.convertScaleAbs(gray, alpha=contrast, beta=brightness)\n",
    "        if threshBool:\n",
    "            _, gray = cv2.threshold(gray, lowerThresh, upperThresh, cv2.THRESH_BINARY)\n",
    "        processed_img = gray\n",
    "    else:\n",
    "        raise ValueError(\"Mode should be 'HSV' or 'Gray'.\")\n",
    "\n",
    "    return processed_img"
   ]
  },
  {
   "cell_type": "code",
   "execution_count": 6,
   "metadata": {},
   "outputs": [],
   "source": [
    "# Function to get current slider values and update the image\n",
    "def updateImage(*args):\n",
    "    contrast = cv2.getTrackbarPos('Contrast', 'Adjustments')\n",
    "    brightness = cv2.getTrackbarPos('Brightness', 'Adjustments')\n",
    "    lowerThresh = cv2.getTrackbarPos('Lower Threshold', 'Adjustments')\n",
    "    upperThresh = cv2.getTrackbarPos('Upper Threshold', 'Adjustments')\n",
    "\n",
    "    new_frame = adjustImage(frame, mode, contrastBool, threshBool, upperThresh, lowerThresh, contrast, brightness)\n",
    "    cv2.imshow('Adjustments', new_frame)"
   ]
  },
  {
   "cell_type": "code",
   "execution_count": 7,
   "metadata": {},
   "outputs": [],
   "source": [
    "video_path = 'vecteezy_snow-falling-background_1623412.mp4'\n",
    "mode = \"Gray\"\n",
    "contrastBool = True\n",
    "threshBool = True\n",
    "\n",
    "cap = cv2.VideoCapture(video_path)\n",
    "ret, frame = cap.read()"
   ]
  },
  {
   "cell_type": "code",
   "execution_count": 8,
   "metadata": {},
   "outputs": [
    {
     "ename": "error",
     "evalue": "OpenCV(4.8.1) D:\\a\\opencv-python\\opencv-python\\opencv\\modules\\highgui\\src\\window.cpp:866: error: (-215:Assertion failed) trackbar in function 'cv::getTrackbarPos'\n",
     "output_type": "error",
     "traceback": [
      "\u001b[1;31m---------------------------------------------------------------------------\u001b[0m",
      "\u001b[1;31merror\u001b[0m                                     Traceback (most recent call last)",
      "\u001b[1;32m~\\AppData\\Local\\Temp/ipykernel_11496/3953900214.py\u001b[0m in \u001b[0;36mupdateImage\u001b[1;34m(*args)\u001b[0m\n\u001b[0;32m      2\u001b[0m \u001b[1;32mdef\u001b[0m \u001b[0mupdateImage\u001b[0m\u001b[1;33m(\u001b[0m\u001b[1;33m*\u001b[0m\u001b[0margs\u001b[0m\u001b[1;33m)\u001b[0m\u001b[1;33m:\u001b[0m\u001b[1;33m\u001b[0m\u001b[1;33m\u001b[0m\u001b[0m\n\u001b[0;32m      3\u001b[0m     \u001b[0mcontrast\u001b[0m \u001b[1;33m=\u001b[0m \u001b[0mcv2\u001b[0m\u001b[1;33m.\u001b[0m\u001b[0mgetTrackbarPos\u001b[0m\u001b[1;33m(\u001b[0m\u001b[1;34m'Contrast'\u001b[0m\u001b[1;33m,\u001b[0m \u001b[1;34m'Adjustments'\u001b[0m\u001b[1;33m)\u001b[0m\u001b[1;33m\u001b[0m\u001b[1;33m\u001b[0m\u001b[0m\n\u001b[1;32m----> 4\u001b[1;33m     \u001b[0mbrightness\u001b[0m \u001b[1;33m=\u001b[0m \u001b[0mcv2\u001b[0m\u001b[1;33m.\u001b[0m\u001b[0mgetTrackbarPos\u001b[0m\u001b[1;33m(\u001b[0m\u001b[1;34m'Brightness'\u001b[0m\u001b[1;33m,\u001b[0m \u001b[1;34m'Adjustments'\u001b[0m\u001b[1;33m)\u001b[0m\u001b[1;33m\u001b[0m\u001b[1;33m\u001b[0m\u001b[0m\n\u001b[0m\u001b[0;32m      5\u001b[0m     \u001b[0mlowerThresh\u001b[0m \u001b[1;33m=\u001b[0m \u001b[0mcv2\u001b[0m\u001b[1;33m.\u001b[0m\u001b[0mgetTrackbarPos\u001b[0m\u001b[1;33m(\u001b[0m\u001b[1;34m'Lower Threshold'\u001b[0m\u001b[1;33m,\u001b[0m \u001b[1;34m'Adjustments'\u001b[0m\u001b[1;33m)\u001b[0m\u001b[1;33m\u001b[0m\u001b[1;33m\u001b[0m\u001b[0m\n\u001b[0;32m      6\u001b[0m     \u001b[0mupperThresh\u001b[0m \u001b[1;33m=\u001b[0m \u001b[0mcv2\u001b[0m\u001b[1;33m.\u001b[0m\u001b[0mgetTrackbarPos\u001b[0m\u001b[1;33m(\u001b[0m\u001b[1;34m'Upper Threshold'\u001b[0m\u001b[1;33m,\u001b[0m \u001b[1;34m'Adjustments'\u001b[0m\u001b[1;33m)\u001b[0m\u001b[1;33m\u001b[0m\u001b[1;33m\u001b[0m\u001b[0m\n",
      "\u001b[1;31merror\u001b[0m: OpenCV(4.8.1) D:\\a\\opencv-python\\opencv-python\\opencv\\modules\\highgui\\src\\window.cpp:866: error: (-215:Assertion failed) trackbar in function 'cv::getTrackbarPos'\n"
     ]
    },
    {
     "ename": "error",
     "evalue": "OpenCV(4.8.1) D:\\a\\opencv-python\\opencv-python\\opencv\\modules\\highgui\\src\\window.cpp:866: error: (-215:Assertion failed) trackbar in function 'cv::getTrackbarPos'\n",
     "output_type": "error",
     "traceback": [
      "\u001b[1;31m---------------------------------------------------------------------------\u001b[0m",
      "\u001b[1;31merror\u001b[0m                                     Traceback (most recent call last)",
      "\u001b[1;32m~\\AppData\\Local\\Temp/ipykernel_11496/3953900214.py\u001b[0m in \u001b[0;36mupdateImage\u001b[1;34m(*args)\u001b[0m\n\u001b[0;32m      3\u001b[0m     \u001b[0mcontrast\u001b[0m \u001b[1;33m=\u001b[0m \u001b[0mcv2\u001b[0m\u001b[1;33m.\u001b[0m\u001b[0mgetTrackbarPos\u001b[0m\u001b[1;33m(\u001b[0m\u001b[1;34m'Contrast'\u001b[0m\u001b[1;33m,\u001b[0m \u001b[1;34m'Adjustments'\u001b[0m\u001b[1;33m)\u001b[0m\u001b[1;33m\u001b[0m\u001b[1;33m\u001b[0m\u001b[0m\n\u001b[0;32m      4\u001b[0m     \u001b[0mbrightness\u001b[0m \u001b[1;33m=\u001b[0m \u001b[0mcv2\u001b[0m\u001b[1;33m.\u001b[0m\u001b[0mgetTrackbarPos\u001b[0m\u001b[1;33m(\u001b[0m\u001b[1;34m'Brightness'\u001b[0m\u001b[1;33m,\u001b[0m \u001b[1;34m'Adjustments'\u001b[0m\u001b[1;33m)\u001b[0m\u001b[1;33m\u001b[0m\u001b[1;33m\u001b[0m\u001b[0m\n\u001b[1;32m----> 5\u001b[1;33m     \u001b[0mlowerThresh\u001b[0m \u001b[1;33m=\u001b[0m \u001b[0mcv2\u001b[0m\u001b[1;33m.\u001b[0m\u001b[0mgetTrackbarPos\u001b[0m\u001b[1;33m(\u001b[0m\u001b[1;34m'Lower Threshold'\u001b[0m\u001b[1;33m,\u001b[0m \u001b[1;34m'Adjustments'\u001b[0m\u001b[1;33m)\u001b[0m\u001b[1;33m\u001b[0m\u001b[1;33m\u001b[0m\u001b[0m\n\u001b[0m\u001b[0;32m      6\u001b[0m     \u001b[0mupperThresh\u001b[0m \u001b[1;33m=\u001b[0m \u001b[0mcv2\u001b[0m\u001b[1;33m.\u001b[0m\u001b[0mgetTrackbarPos\u001b[0m\u001b[1;33m(\u001b[0m\u001b[1;34m'Upper Threshold'\u001b[0m\u001b[1;33m,\u001b[0m \u001b[1;34m'Adjustments'\u001b[0m\u001b[1;33m)\u001b[0m\u001b[1;33m\u001b[0m\u001b[1;33m\u001b[0m\u001b[0m\n\u001b[0;32m      7\u001b[0m \u001b[1;33m\u001b[0m\u001b[0m\n",
      "\u001b[1;31merror\u001b[0m: OpenCV(4.8.1) D:\\a\\opencv-python\\opencv-python\\opencv\\modules\\highgui\\src\\window.cpp:866: error: (-215:Assertion failed) trackbar in function 'cv::getTrackbarPos'\n"
     ]
    }
   ],
   "source": [
    "if not ret:\n",
    "    print(\"Failed to load the video.\")\n",
    "else:\n",
    "    cv2.imshow('Original', frame)\n",
    "\n",
    "    # Create a window for sliders\n",
    "    cv2.namedWindow('Adjustments')\n",
    "\n",
    "    # Added this line to resize the trackbar window\n",
    "    cv2.resizeWindow('Adjustments', 300, 100)  # Adjust size as per your requirement\n",
    "\n",
    "    # Create trackbars for contrast, brightness, and thresholds\n",
    "    cv2.createTrackbar('Contrast', 'Adjustments', 1, 10, updateImage)  # Slider for contrast\n",
    "    cv2.createTrackbar('Brightness', 'Adjustments', 50, 255, updateImage)  # Slider for brightness\n",
    "    cv2.createTrackbar('Lower Threshold', 'Adjustments', 0, 255, updateImage)  # Slider for lower threshold\n",
    "    cv2.createTrackbar('Upper Threshold', 'Adjustments', 255, 255, updateImage)  # Slider for upper threshold\n",
    "\n",
    "    # Show initial image with default values\n",
    "    updateImage()\n",
    "\n",
    "    # Wait for key press and exit\n",
    "    cv2.waitKey(0)\n",
    "    cap.release()\n",
    "    cv2.destroyAllWindows()"
   ]
  }
 ],
 "metadata": {
  "kernelspec": {
   "display_name": "Python 3",
   "language": "python",
   "name": "python3"
  },
  "language_info": {
   "codemirror_mode": {
    "name": "ipython",
    "version": 3
   },
   "file_extension": ".py",
   "mimetype": "text/x-python",
   "name": "python",
   "nbconvert_exporter": "python",
   "pygments_lexer": "ipython3",
   "version": "3.9.7"
  }
 },
 "nbformat": 4,
 "nbformat_minor": 2
}
